{
  "nbformat": 4,
  "nbformat_minor": 0,
  "metadata": {
    "colab": {
      "name": " AMD Project - Apriori vs FP.ipynb",
      "provenance": [],
      "collapsed_sections": [],
      "toc_visible": true,
      "authorship_tag": "ABX9TyN3Ai7+0uQAYedMaHuGLcEL",
      "include_colab_link": true
    },
    "kernelspec": {
      "display_name": "Python 3",
      "name": "python3"
    }
  },
  "cells": [
    {
      "cell_type": "markdown",
      "metadata": {
        "id": "view-in-github",
        "colab_type": "text"
      },
      "source": [
        "<a href=\"https://colab.research.google.com/github/giusi07/AlgorithmsMassiveDatasets/blob/main/AMD_Project_Apriori_vs_FP.ipynb\" target=\"_parent\"><img src=\"https://colab.research.google.com/assets/colab-badge.svg\" alt=\"Open In Colab\"/></a>"
      ]
    },
    {
      "cell_type": "markdown",
      "metadata": {
        "id": "adEFrXVqr5gx"
      },
      "source": [
        "Finding frequent itemsets (IMDB) <br>\n",
        "Maria Giuseppina Brunelli <br>\n",
        "DSE 2020/2021"
      ]
    },
    {
      "cell_type": "markdown",
      "metadata": {
        "id": "841gWAcFcz01"
      },
      "source": [
        "### **Spark** **Setup**"
      ]
    },
    {
      "cell_type": "code",
      "metadata": {
        "id": "7T0HNbF7c-QW"
      },
      "source": [
        "# install Java8\n",
        "!apt-get install openjdk-8-jdk-headless -qq > /dev/null\n",
        "# download spark3.0.2\n",
        "!wget -q http://apache.osuosl.org/spark/spark-3.0.2/spark-3.0.2-bin-hadoop2.7.tgz\n",
        "# unzip it\n",
        "!tar xf spark-3.0.2-bin-hadoop2.7.tgz\n",
        "# install findspark \n",
        "!pip install -q findspark"
      ],
      "execution_count": null,
      "outputs": []
    },
    {
      "cell_type": "code",
      "metadata": {
        "id": "ZjyTIJIgfph6"
      },
      "source": [
        "import os\n",
        "os.environ[\"JAVA_HOME\"] = \"/usr/lib/jvm/java-8-openjdk-amd64\"\n",
        "os.environ[\"SPARK_HOME\"] = \"/content/spark-3.0.2-bin-hadoop2.7\""
      ],
      "execution_count": null,
      "outputs": []
    },
    {
      "cell_type": "code",
      "metadata": {
        "id": "rPBuNrPFfzv2"
      },
      "source": [
        "import findspark\n",
        "findspark.init(\"spark-3.0.2-bin-hadoop2.7\")# SPARK_HOME\n",
        "from pyspark.sql import SparkSession\n",
        "spark = SparkSession.builder.master(\"local[*]\").getOrCreate()"
      ],
      "execution_count": null,
      "outputs": []
    },
    {
      "cell_type": "code",
      "metadata": {
        "id": "jAGDGT_HgG5Y"
      },
      "source": [
        "import pyspark\n",
        "sc = spark.sparkContext "
      ],
      "execution_count": null,
      "outputs": []
    },
    {
      "cell_type": "markdown",
      "metadata": {
        "id": "ATQBWS2QhElv"
      },
      "source": [
        "### **Kaggle Setup and Dataset Import**"
      ]
    },
    {
      "cell_type": "code",
      "metadata": {
        "colab": {
          "base_uri": "https://localhost:8080/"
        },
        "id": "OppyMnCuWjzJ",
        "outputId": "d3285ec3-6f1f-4eb8-bbfe-7a9cc4298501"
      },
      "source": [
        "!pip install kaggle"
      ],
      "execution_count": null,
      "outputs": [
        {
          "output_type": "stream",
          "text": [
            "Requirement already satisfied: kaggle in /usr/local/lib/python3.7/dist-packages (1.5.10)\n",
            "Requirement already satisfied: six>=1.10 in /usr/local/lib/python3.7/dist-packages (from kaggle) (1.15.0)\n",
            "Requirement already satisfied: python-slugify in /usr/local/lib/python3.7/dist-packages (from kaggle) (4.0.1)\n",
            "Requirement already satisfied: urllib3 in /usr/local/lib/python3.7/dist-packages (from kaggle) (1.24.3)\n",
            "Requirement already satisfied: requests in /usr/local/lib/python3.7/dist-packages (from kaggle) (2.23.0)\n",
            "Requirement already satisfied: tqdm in /usr/local/lib/python3.7/dist-packages (from kaggle) (4.41.1)\n",
            "Requirement already satisfied: certifi in /usr/local/lib/python3.7/dist-packages (from kaggle) (2020.12.5)\n",
            "Requirement already satisfied: python-dateutil in /usr/local/lib/python3.7/dist-packages (from kaggle) (2.8.1)\n",
            "Requirement already satisfied: text-unidecode>=1.3 in /usr/local/lib/python3.7/dist-packages (from python-slugify->kaggle) (1.3)\n",
            "Requirement already satisfied: idna<3,>=2.5 in /usr/local/lib/python3.7/dist-packages (from requests->kaggle) (2.10)\n",
            "Requirement already satisfied: chardet<4,>=3.0.2 in /usr/local/lib/python3.7/dist-packages (from requests->kaggle) (3.0.4)\n"
          ],
          "name": "stdout"
        }
      ]
    },
    {
      "cell_type": "code",
      "metadata": {
        "colab": {
          "resources": {
            "http://localhost:8080/nbextensions/google.colab/files.js": {
              "data": "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",
              "ok": true,
              "headers": [
                [
                  "content-type",
                  "application/javascript"
                ]
              ],
              "status": 200,
              "status_text": ""
            }
          },
          "base_uri": "https://localhost:8080/",
          "height": 89
        },
        "id": "ky0cGaNbP9gj",
        "outputId": "c732e796-f628-4ebf-9183-5123bd11e10e"
      },
      "source": [
        "from google.colab import files\n",
        "\n",
        "uploaded = files.upload()\n",
        "\n",
        "for fn in uploaded.keys():\n",
        "  print('User uploaded file \"{name}\" with length {length} bytes'.format(\n",
        "      name=fn, length=len(uploaded[fn])))\n",
        "  \n",
        "# Then move kaggle.json into the folder where the API expects to find it.\n",
        "!mkdir -p ~/.kaggle/ && mv kaggle.json ~/.kaggle/ && chmod 600 ~/.kaggle/kaggle.json"
      ],
      "execution_count": null,
      "outputs": [
        {
          "output_type": "display_data",
          "data": {
            "text/html": [
              "\n",
              "     <input type=\"file\" id=\"files-7f788786-8cf5-421a-aa4e-584178795bc6\" name=\"files[]\" multiple disabled\n",
              "        style=\"border:none\" />\n",
              "     <output id=\"result-7f788786-8cf5-421a-aa4e-584178795bc6\">\n",
              "      Upload widget is only available when the cell has been executed in the\n",
              "      current browser session. Please rerun this cell to enable.\n",
              "      </output>\n",
              "      <script src=\"/nbextensions/google.colab/files.js\"></script> "
            ],
            "text/plain": [
              "<IPython.core.display.HTML object>"
            ]
          },
          "metadata": {
            "tags": []
          }
        },
        {
          "output_type": "stream",
          "text": [
            "Saving kaggle.json to kaggle.json\n",
            "User uploaded file \"kaggle.json\" with length 72 bytes\n"
          ],
          "name": "stdout"
        }
      ]
    },
    {
      "cell_type": "code",
      "metadata": {
        "colab": {
          "base_uri": "https://localhost:8080/"
        },
        "id": "uNKMBM5UQypK",
        "outputId": "b5b8041a-f59f-4490-edff-01791378ec5d"
      },
      "source": [
        "!kaggle datasets download -d ashirwadsangwan/imdb-dataset"
      ],
      "execution_count": null,
      "outputs": [
        {
          "output_type": "stream",
          "text": [
            "Downloading imdb-dataset.zip to /content\n",
            " 99% 1.43G/1.44G [00:40<00:00, 36.9MB/s]\n",
            "100% 1.44G/1.44G [00:40<00:00, 37.8MB/s]\n"
          ],
          "name": "stdout"
        }
      ]
    },
    {
      "cell_type": "code",
      "metadata": {
        "colab": {
          "base_uri": "https://localhost:8080/"
        },
        "id": "HKX-KZfLRCpm",
        "outputId": "01938f0b-2b5b-4424-bf7f-20ea565a366b"
      },
      "source": [
        "!unzip imdb-dataset"
      ],
      "execution_count": null,
      "outputs": [
        {
          "output_type": "stream",
          "text": [
            "Archive:  imdb-dataset.zip\n",
            "  inflating: name.basics.tsv.gz      \n",
            "  inflating: name.basics.tsv/name.basics.tsv  \n",
            "  inflating: title.akas.tsv.gz       \n",
            "  inflating: title.akas.tsv/title.akas.tsv  \n",
            "  inflating: title.basics.tsv.gz     \n",
            "  inflating: title.basics.tsv/title.basics.tsv  \n",
            "  inflating: title.principals.tsv.gz  \n",
            "  inflating: title.principals.tsv/title.principals.tsv  \n",
            "  inflating: title.ratings.tsv.gz    \n",
            "  inflating: title.ratings.tsv/title.ratings.tsv  \n"
          ],
          "name": "stdout"
        }
      ]
    },
    {
      "cell_type": "markdown",
      "metadata": {
        "id": "klc_X7du79_i"
      },
      "source": [
        "### **Read data into spark dataframes**"
      ]
    },
    {
      "cell_type": "code",
      "metadata": {
        "id": "1P4_y8hm7n2c"
      },
      "source": [
        "names_df = spark.read.load(\"name.basics.tsv/name.basics.tsv\",\n",
        "                     format=\"csv\", sep=\"\\t\", inferSchema=\"true\", header=\"true\")\n",
        "movies_df = spark.read.load(\"title.basics.tsv/title.basics.tsv\",\n",
        "                     format=\"csv\", sep=\"\\t\", inferSchema=\"true\", header=\"true\")"
      ],
      "execution_count": null,
      "outputs": []
    },
    {
      "cell_type": "code",
      "metadata": {
        "colab": {
          "base_uri": "https://localhost:8080/"
        },
        "id": "MONrsxgeog3p",
        "outputId": "94092e1d-9255-46bf-c2a9-4dd84648717d"
      },
      "source": [
        "names_df.cache()"
      ],
      "execution_count": null,
      "outputs": [
        {
          "output_type": "execute_result",
          "data": {
            "text/plain": [
              "DataFrame[nconst: string, primaryName: string, birthYear: string, deathYear: string, primaryProfession: string, knownForTitles: string]"
            ]
          },
          "metadata": {
            "tags": []
          },
          "execution_count": 10
        }
      ]
    },
    {
      "cell_type": "markdown",
      "metadata": {
        "id": "RlnwAQO18K3J"
      },
      "source": [
        "### **Show dataframes**"
      ]
    },
    {
      "cell_type": "code",
      "metadata": {
        "colab": {
          "base_uri": "https://localhost:8080/"
        },
        "id": "UybRs2Uf8Khg",
        "outputId": "986aa016-f664-47da-8763-5b52343c29a8"
      },
      "source": [
        "names_df.show(10)"
      ],
      "execution_count": null,
      "outputs": [
        {
          "output_type": "stream",
          "text": [
            "+---------+---------------+---------+---------+--------------------+--------------------+\n",
            "|   nconst|    primaryName|birthYear|deathYear|   primaryProfession|      knownForTitles|\n",
            "+---------+---------------+---------+---------+--------------------+--------------------+\n",
            "|nm0000001|   Fred Astaire|     1899|     1987|soundtrack,actor,...|tt0050419,tt00531...|\n",
            "|nm0000002|  Lauren Bacall|     1924|     2014|  actress,soundtrack|tt0071877,tt01170...|\n",
            "|nm0000003|Brigitte Bardot|     1934|       \\N|actress,soundtrac...|tt0054452,tt00491...|\n",
            "|nm0000004|   John Belushi|     1949|     1982|actor,writer,soun...|tt0077975,tt00725...|\n",
            "|nm0000005| Ingmar Bergman|     1918|     2007|writer,director,a...|tt0069467,tt00509...|\n",
            "|nm0000006| Ingrid Bergman|     1915|     1982|actress,soundtrac...|tt0038109,tt00368...|\n",
            "|nm0000007|Humphrey Bogart|     1899|     1957|actor,soundtrack,...|tt0043265,tt00338...|\n",
            "|nm0000008|  Marlon Brando|     1924|     2004|actor,soundtrack,...|tt0070849,tt00787...|\n",
            "|nm0000009| Richard Burton|     1925|     1984|actor,producer,so...|tt0057877,tt00878...|\n",
            "|nm0000010|   James Cagney|     1899|     1986|actor,soundtrack,...|tt0035575,tt00318...|\n",
            "+---------+---------------+---------+---------+--------------------+--------------------+\n",
            "only showing top 10 rows\n",
            "\n"
          ],
          "name": "stdout"
        }
      ]
    },
    {
      "cell_type": "code",
      "metadata": {
        "colab": {
          "base_uri": "https://localhost:8080/"
        },
        "id": "brdc5PLQ8jnI",
        "outputId": "26b764de-04d5-43d2-8177-c87e0cc5d624"
      },
      "source": [
        "movies_df.show(5)"
      ],
      "execution_count": null,
      "outputs": [
        {
          "output_type": "stream",
          "text": [
            "+---------+---------+--------------------+--------------------+-------+---------+-------+--------------+--------------------+\n",
            "|   tconst|titleType|        primaryTitle|       originalTitle|isAdult|startYear|endYear|runtimeMinutes|              genres|\n",
            "+---------+---------+--------------------+--------------------+-------+---------+-------+--------------+--------------------+\n",
            "|tt0000001|    short|          Carmencita|          Carmencita|      0|     1894|     \\N|             1|   Documentary,Short|\n",
            "|tt0000002|    short|Le clown et ses c...|Le clown et ses c...|      0|     1892|     \\N|             5|     Animation,Short|\n",
            "|tt0000003|    short|      Pauvre Pierrot|      Pauvre Pierrot|      0|     1892|     \\N|             4|Animation,Comedy,...|\n",
            "|tt0000004|    short|         Un bon bock|         Un bon bock|      0|     1892|     \\N|            \\N|     Animation,Short|\n",
            "|tt0000005|    short|    Blacksmith Scene|    Blacksmith Scene|      0|     1893|     \\N|             1|        Comedy,Short|\n",
            "+---------+---------+--------------------+--------------------+-------+---------+-------+--------------+--------------------+\n",
            "only showing top 5 rows\n",
            "\n"
          ],
          "name": "stdout"
        }
      ]
    },
    {
      "cell_type": "markdown",
      "metadata": {
        "id": "pgrMWCeLUMgK"
      },
      "source": [
        "# **Frequent itemsets - Actors with single role**\n",
        "In this section I analyze and apply fp-growth and apriori algorithm only to records of characters that are strictly actor/actress. \n",
        "Here I show the example of \"Keith Manning\" who appears as actor and in other roles in the original dataframe. Then I create a new dataframe called `actors_df` that contains only actors' data "
      ]
    },
    {
      "cell_type": "markdown",
      "metadata": {
        "id": "pnUqmzVWPUCQ"
      },
      "source": [
        "### **Drop records of non-actors** <br>\n"
      ]
    },
    {
      "cell_type": "code",
      "metadata": {
        "colab": {
          "base_uri": "https://localhost:8080/"
        },
        "id": "ziQ1OoSuR1ei",
        "outputId": "9ac202b6-fedd-4c23-f18b-03c5974f0283"
      },
      "source": [
        "#original data\n",
        "names_df.filter(names_df.primaryName == \"Keith Manning\").show(truncate=False)"
      ],
      "execution_count": null,
      "outputs": [
        {
          "output_type": "stream",
          "text": [
            "+---------+-------------+---------+---------+--------------------------------+---------------------------------------+\n",
            "|nconst   |primaryName  |birthYear|deathYear|primaryProfession               |knownForTitles                         |\n",
            "+---------+-------------+---------+---------+--------------------------------+---------------------------------------+\n",
            "|nm0003513|Keith Manning|\\N       |\\N       |camera_department,visual_effects|tt0988045,tt2802144,tt0816711,tt0434409|\n",
            "|nm2622337|Keith Manning|\\N       |\\N       |actor,writer                    |tt2359298,tt1795011,tt1008713,tt2010966|\n",
            "|nm4796978|Keith Manning|\\N       |\\N       |actor                           |tt2125515                              |\n",
            "|nm5237004|Keith Manning|\\N       |\\N       |null                            |\\N                                     |\n",
            "|nm7471983|Keith Manning|\\N       |\\N       |actor                           |tt4789618                              |\n",
            "|nm8870750|Keith Manning|\\N       |\\N       |actor                           |tt0243652                              |\n",
            "+---------+-------------+---------+---------+--------------------------------+---------------------------------------+\n",
            "\n"
          ],
          "name": "stdout"
        }
      ]
    },
    {
      "cell_type": "code",
      "metadata": {
        "id": "XrhMAsQ9PS_h"
      },
      "source": [
        "#remove non actors \n",
        "actors_df=names_df.filter((names_df.primaryProfession == 'actor')|(names_df.primaryProfession == 'actress'))"
      ],
      "execution_count": null,
      "outputs": []
    },
    {
      "cell_type": "code",
      "metadata": {
        "colab": {
          "base_uri": "https://localhost:8080/"
        },
        "id": "BUN9y47yRHkP",
        "outputId": "61dfd382-6ea8-4b32-e49a-082eb3cdf4ca"
      },
      "source": [
        "#retain only actors information rsult \n",
        "actors_df.filter(actors_df.primaryName == \"Keith Manning\").show(truncate=False)\n"
      ],
      "execution_count": null,
      "outputs": [
        {
          "output_type": "stream",
          "text": [
            "+---------+-------------+---------+---------+-----------------+--------------+\n",
            "|nconst   |primaryName  |birthYear|deathYear|primaryProfession|knownForTitles|\n",
            "+---------+-------------+---------+---------+-----------------+--------------+\n",
            "|nm4796978|Keith Manning|\\N       |\\N       |actor            |tt2125515     |\n",
            "|nm7471983|Keith Manning|\\N       |\\N       |actor            |tt4789618     |\n",
            "|nm8870750|Keith Manning|\\N       |\\N       |actor            |tt0243652     |\n",
            "+---------+-------------+---------+---------+-----------------+--------------+\n",
            "\n"
          ],
          "name": "stdout"
        }
      ]
    },
    {
      "cell_type": "markdown",
      "metadata": {
        "id": "C4yHL2q2poLM"
      },
      "source": [
        "actors_df contains information about 3million (circa) `actors`, while movies_df contains information about 6million (circa) `movies` "
      ]
    },
    {
      "cell_type": "code",
      "metadata": {
        "colab": {
          "base_uri": "https://localhost:8080/"
        },
        "id": "Fdfq1v1Rn2jd",
        "outputId": "e00daa7e-12b7-4633-de24-626328d3a763"
      },
      "source": [
        "print((actors_df.count(), len(actors_df.columns)))"
      ],
      "execution_count": null,
      "outputs": [
        {
          "output_type": "stream",
          "text": [
            "(2914287, 6)\n"
          ],
          "name": "stdout"
        }
      ]
    },
    {
      "cell_type": "code",
      "metadata": {
        "colab": {
          "base_uri": "https://localhost:8080/"
        },
        "id": "wQ7Y0lIzphkh",
        "outputId": "647d5722-3636-4918-b428-8f2b43529336"
      },
      "source": [
        "print((movies_df.count(), len(movies_df.columns)))"
      ],
      "execution_count": null,
      "outputs": [
        {
          "output_type": "stream",
          "text": [
            "(6321302, 9)\n"
          ],
          "name": "stdout"
        }
      ]
    },
    {
      "cell_type": "markdown",
      "metadata": {
        "id": "O1SkHF52rxWa"
      },
      "source": [
        "### **Null Values** <br>\n",
        "Check null values in both tables, in the columns of interest for this task: <br>\n",
        "- actors_df: check columns `nconst`, `primaryName` and `knownForTitles`\n",
        "- movies_df: check column `tconst`\n",
        "\n",
        "\n"
      ]
    },
    {
      "cell_type": "code",
      "metadata": {
        "colab": {
          "base_uri": "https://localhost:8080/"
        },
        "id": "IEq2rD6KVu2D",
        "outputId": "12b4a357-352a-40b2-aaab-aa4b61d44159"
      },
      "source": [
        "actors_df.filter(actors_df.knownForTitles.contains('\\\\N')).show(truncate=False)"
      ],
      "execution_count": null,
      "outputs": [
        {
          "output_type": "stream",
          "text": [
            "+---------+---------------------+---------+---------+-----------------+--------------+\n",
            "|nconst   |primaryName          |birthYear|deathYear|primaryProfession|knownForTitles|\n",
            "+---------+---------------------+---------+---------+-----------------+--------------+\n",
            "|nm0008670|Arline Abers         |\\N       |\\N       |actress          |\\N            |\n",
            "|nm0010257|Ángel Acosta         |\\N       |\\N       |actor            |\\N            |\n",
            "|nm0023948|Jay Amar             |\\N       |\\N       |actor            |\\N            |\n",
            "|nm0024384|Charles Ambrose      |\\N       |\\N       |actor            |\\N            |\n",
            "|nm0025869|Ben Ka-Seung Ting    |\\N       |\\N       |actor            |\\N            |\n",
            "|nm0038495|Anton Van Leer Ascher|1868     |1928     |actor            |\\N            |\n",
            "|nm0043020|Christina Avery      |\\N       |\\N       |actress          |\\N            |\n",
            "|nm0060224|Melinda Bassett      |\\N       |\\N       |actress          |\\N            |\n",
            "|nm0062077|Christine Baum       |\\N       |\\N       |actress          |\\N            |\n",
            "|nm0065815|Russell R. Beckman   |1962     |\\N       |actor            |\\N            |\n",
            "|nm0138189|Eve Carlton          |\\N       |\\N       |actress          |\\N            |\n",
            "|nm0147587|Sarah Ceccarini      |\\N       |\\N       |actress          |\\N            |\n",
            "|nm0173656|Lauralei Combs       |1958     |\\N       |actress          |\\N            |\n",
            "|nm0174432|Frank Condos         |1906     |\\N       |actor            |\\N            |\n",
            "|nm0206028|Michelle Dawn        |\\N       |\\N       |actress          |\\N            |\n",
            "|nm0243720|Michael Duran        |\\N       |\\N       |actor            |\\N            |\n",
            "|nm0257097|Jeff Engel           |\\N       |\\N       |actor            |\\N            |\n",
            "|nm0263282|Trevor Evans         |1902     |1981     |actor            |\\N            |\n",
            "|nm0318669|Grey Gill            |\\N       |\\N       |actor            |\\N            |\n",
            "|nm0328091|Carmen González      |\\N       |\\N       |actress          |\\N            |\n",
            "+---------+---------------------+---------+---------+-----------------+--------------+\n",
            "only showing top 20 rows\n",
            "\n"
          ],
          "name": "stdout"
        }
      ]
    },
    {
      "cell_type": "code",
      "metadata": {
        "colab": {
          "base_uri": "https://localhost:8080/"
        },
        "id": "3QEQq9fh4s2k",
        "outputId": "7d68c292-8212-414e-af7e-ad0c063c9d35"
      },
      "source": [
        "#remove records with null values\n",
        "actors_df= actors_df.filter(actors_df.knownForTitles != '\\\\N')\n",
        "actors_df.show()"
      ],
      "execution_count": null,
      "outputs": [
        {
          "output_type": "stream",
          "text": [
            "+---------+-----------------+---------+---------+-----------------+--------------------+\n",
            "|   nconst|      primaryName|birthYear|deathYear|primaryProfession|      knownForTitles|\n",
            "+---------+-----------------+---------+---------+-----------------+--------------------+\n",
            "|nm0000084|          Li Gong|     1965|       \\N|          actress|tt0473444,tt01016...|\n",
            "|nm0000109|   Yasmine Bleeth|     1968|       \\N|          actress|tt0131857,tt01152...|\n",
            "|nm0000124|Jennifer Connelly|     1970|       \\N|          actress|tt0315983,tt01800...|\n",
            "|nm0000143|    Erika Eleniak|     1969|       \\N|          actress|tt0083866,tt00947...|\n",
            "|nm0000157|   Linda Hamilton|     1956|       \\N|          actress|tt0103064,tt64508...|\n",
            "|nm0000266|   Ursula Andress|     1936|       \\N|          actress|tt0061452,tt00559...|\n",
            "|nm0000282|   Scott Bairstow|     1970|       \\N|            actor|tt0283084,tt01825...|\n",
            "|nm0000283|     Brenda Bakke|     1963|       \\N|          actress|tt0114608,tt01071...|\n",
            "|nm0000314|  Charles Bronson|     1921|     2003|            actor|tt0064116,tt00540...|\n",
            "|nm0000319|     Yancy Butler|     1970|       \\N|          actress|tt0107076,tt02742...|\n",
            "|nm0000357|Lolita Davidovich|     1961|       \\N|          actress|tt0120684,tt03297...|\n",
            "|nm0000374|      Brad Dourif|     1950|       \\N|            actor|tt0073486,tt00871...|\n",
            "|nm0000383|    Jennifer Ehle|     1969|       \\N|          actress|tt2392830,tt01121...|\n",
            "|nm0000395|    Terry Farrell|     1963|       \\N|          actress|tt0104409,tt00906...|\n",
            "|nm0000405|  Michelle Forbes|     1965|       \\N|          actress|tt0844441,tt01162...|\n",
            "|nm0000423|    Serena Grandi|     1958|       \\N|          actress|tt2358891,tt00892...|\n",
            "|nm0000444|    Glenne Headly|     1955|     2017|          actress|tt0113862,tt00950...|\n",
            "|nm0000470|    Jeffrey Jones|     1946|       \\N|            actor|tt0091042,tt00912...|\n",
            "|nm0000477|     Mia Kirshner|     1975|       \\N|          actress|tt3520702,tt03878...|\n",
            "|nm0000503|      Emily Lloyd|     1970|       \\N|          actress|tt0097109,tt00943...|\n",
            "+---------+-----------------+---------+---------+-----------------+--------------------+\n",
            "only showing top 20 rows\n",
            "\n"
          ],
          "name": "stdout"
        }
      ]
    },
    {
      "cell_type": "code",
      "metadata": {
        "colab": {
          "base_uri": "https://localhost:8080/"
        },
        "id": "5JQT96CMYNmH",
        "outputId": "61ab216d-f64a-4639-8b9e-f8602be4e071"
      },
      "source": [
        "actors_df.filter(actors_df.primaryName.contains('\\\\N')).show(truncate=False)"
      ],
      "execution_count": null,
      "outputs": [
        {
          "output_type": "stream",
          "text": [
            "+------+-----------+---------+---------+-----------------+--------------+\n",
            "|nconst|primaryName|birthYear|deathYear|primaryProfession|knownForTitles|\n",
            "+------+-----------+---------+---------+-----------------+--------------+\n",
            "+------+-----------+---------+---------+-----------------+--------------+\n",
            "\n"
          ],
          "name": "stdout"
        }
      ]
    },
    {
      "cell_type": "code",
      "metadata": {
        "colab": {
          "base_uri": "https://localhost:8080/"
        },
        "id": "29WaXuqKYg8v",
        "outputId": "a36c3a2e-5d6a-4676-a12e-e396fc9c22ac"
      },
      "source": [
        "actors_df.filter(actors_df.nconst.contains('\\\\N')).show(truncate=False)"
      ],
      "execution_count": null,
      "outputs": [
        {
          "output_type": "stream",
          "text": [
            "+------+-----------+---------+---------+-----------------+--------------+\n",
            "|nconst|primaryName|birthYear|deathYear|primaryProfession|knownForTitles|\n",
            "+------+-----------+---------+---------+-----------------+--------------+\n",
            "+------+-----------+---------+---------+-----------------+--------------+\n",
            "\n"
          ],
          "name": "stdout"
        }
      ]
    },
    {
      "cell_type": "code",
      "metadata": {
        "colab": {
          "base_uri": "https://localhost:8080/"
        },
        "id": "XVbBMhskZ8_w",
        "outputId": "d1f3057b-4c2b-4194-a012-fd4a429e57fe"
      },
      "source": [
        "movies_df.filter(movies_df.tconst.contains('\\\\N')).show(truncate=False)"
      ],
      "execution_count": null,
      "outputs": [
        {
          "output_type": "stream",
          "text": [
            "+------+---------+------------+-------------+-------+---------+-------+--------------+------+\n",
            "|tconst|titleType|primaryTitle|originalTitle|isAdult|startYear|endYear|runtimeMinutes|genres|\n",
            "+------+---------+------------+-------------+-------+---------+-------+--------------+------+\n",
            "+------+---------+------------+-------------+-------+---------+-------+--------------+------+\n",
            "\n"
          ],
          "name": "stdout"
        }
      ]
    },
    {
      "cell_type": "markdown",
      "metadata": {
        "id": "7HDQXHvTaEwi"
      },
      "source": [
        "The movies dataframe does not have null values in the column of interest. \n"
      ]
    },
    {
      "cell_type": "markdown",
      "metadata": {
        "id": "0Mpa35BTd-5U"
      },
      "source": [
        "### **Number of appearances**\n",
        "This summary shows how many actors appear in 1 movie, 2 movies ecc, in order to have a clear picture that will be useful to choose the support treshold to find frequent itemsets. "
      ]
    },
    {
      "cell_type": "code",
      "metadata": {
        "colab": {
          "base_uri": "https://localhost:8080/"
        },
        "id": "TyRoFlBgd-Xx",
        "outputId": "8a7e1270-8381-44ee-d534-05e8a62fc9ca"
      },
      "source": [
        "from pyspark.sql.functions import size, explode, col, split\n",
        "df2 = actors_df.select(split(col(\"knownForTitles\"),\",\").alias(\"TitlesArray\"))\n",
        "df2 = df2.select('*',size('TitlesArray').alias('NumberMoviesAppearances'))\n",
        "df2=df2.groupBy('NumberMoviesAppearances').count()\n",
        "df2.withColumnRenamed('count', 'NumberOfActors').sort('NumberOfActors', ord='desc').show()"
      ],
      "execution_count": null,
      "outputs": [
        {
          "output_type": "stream",
          "text": [
            "+-----------------------+--------------+\n",
            "|NumberMoviesAppearances|NumberOfActors|\n",
            "+-----------------------+--------------+\n",
            "|                      6|             2|\n",
            "|                      5|            22|\n",
            "|                      3|        139020|\n",
            "|                      2|        327570|\n",
            "|                      4|        392877|\n",
            "|                      1|       1822194|\n",
            "+-----------------------+--------------+\n",
            "\n"
          ],
          "name": "stdout"
        }
      ]
    },
    {
      "cell_type": "code",
      "metadata": {
        "colab": {
          "base_uri": "https://localhost:8080/",
          "height": 411
        },
        "id": "6WF79JLJlXtk",
        "outputId": "8368c9c7-3e66-43bf-a64f-dfef79829b9c"
      },
      "source": [
        "import matplotlib.pyplot as plt\n",
        "\n",
        "labels = '1 movie', '2 movies', '3 movies', '4 movies', '5-6 movies'\n",
        "sizes = [2054796, 327570, 139020, 392877, 24]\n",
        "explode = (0, 0, 0, 0, 0.1)  \n",
        "\n",
        "fig1, ax1 = plt.subplots()\n",
        "ax1.pie(sizes, explode=explode, labels=labels, autopct='%1.3f%%', startangle=180)\n",
        "fig1.set_size_inches(7, 7)\n",
        "plt.show()"
      ],
      "execution_count": null,
      "outputs": [
        {
          "output_type": "display_data",
          "data": {
            "image/png": "[encoded data removed]",
            "text/plain": [
              "<Figure size 504x504 with 1 Axes>"
            ]
          },
          "metadata": {
            "tags": []
          }
        }
      ]
    },
    {
      "cell_type": "markdown",
      "metadata": {
        "id": "nHKUfWSu8qVQ"
      },
      "source": [
        "### **Drop unnecessary columns in both dataframes**"
      ]
    },
    {
      "cell_type": "code",
      "metadata": {
        "id": "e9VuwgIGjdrw"
      },
      "source": [
        "actors_df_reduced= actors_df.drop('birthYear', 'deathYear', 'primaryProfession')\n",
        "movies_df_reduced= movies_df.drop('titleType', 'primaryTitle', 'isAdult', 'startYear', 'endYear', 'runtimeMinutes', 'genres')"
      ],
      "execution_count": null,
      "outputs": []
    },
    {
      "cell_type": "code",
      "metadata": {
        "colab": {
          "base_uri": "https://localhost:8080/"
        },
        "id": "hgqUrjoAVrZv",
        "outputId": "94b0b1dc-95ef-496b-bde8-2b02488a24d3"
      },
      "source": [
        "#cache full dataframes for later use \n",
        "actors_df.cache()\n",
        "movies_df.cache()"
      ],
      "execution_count": null,
      "outputs": [
        {
          "output_type": "execute_result",
          "data": {
            "text/plain": [
              "DataFrame[tconst: string, titleType: string, primaryTitle: string, originalTitle: string, isAdult: int, startYear: string, endYear: string, runtimeMinutes: string, genres: string]"
            ]
          },
          "metadata": {
            "tags": []
          },
          "execution_count": 13
        }
      ]
    },
    {
      "cell_type": "markdown",
      "metadata": {
        "id": "ng6-sjju9iuE"
      },
      "source": [
        "### **Get Transactions table** <br>\n",
        "Join the two tables to create a datframe containing transactions, where movies represent buckets and actors represent items. The transactions dataframe will look something like this: <br>\n",
        "\n",
        "\n",
        "```\n",
        "tconst|nconst \n",
        "tt0..1| nm0000001, nm0000002,..\n",
        "```\n",
        "\n"
      ]
    },
    {
      "cell_type": "code",
      "metadata": {
        "id": "KLUOR55l-j7G",
        "colab": {
          "base_uri": "https://localhost:8080/"
        },
        "outputId": "7e077be3-dcae-4e47-e9bc-a039daa2ca06"
      },
      "source": [
        "from pyspark.sql.functions import split, explode, col\n",
        "actors_df_explode = actors_df_reduced.select(actors_df_reduced.nconst,actors_df_reduced.primaryName,explode(split(col(\"knownForTitles\"), \",\\s*\")))\n",
        "actors_df_explode.printSchema()\n",
        "actors_df_explode.show()"
      ],
      "execution_count": null,
      "outputs": [
        {
          "output_type": "stream",
          "text": [
            "root\n",
            " |-- nconst: string (nullable = true)\n",
            " |-- primaryName: string (nullable = true)\n",
            " |-- col: string (nullable = true)\n",
            "\n",
            "+---------+-----------------+---------+\n",
            "|   nconst|      primaryName|      col|\n",
            "+---------+-----------------+---------+\n",
            "|nm0000084|          Li Gong|tt0473444|\n",
            "|nm0000084|          Li Gong|tt0101640|\n",
            "|nm0000084|          Li Gong|tt0397535|\n",
            "|nm0000084|          Li Gong|tt0430357|\n",
            "|nm0000109|   Yasmine Bleeth|tt0131857|\n",
            "|nm0000109|   Yasmine Bleeth|tt0115285|\n",
            "|nm0000109|   Yasmine Bleeth|tt0337851|\n",
            "|nm0000109|   Yasmine Bleeth|tt0119271|\n",
            "|nm0000124|Jennifer Connelly|tt0315983|\n",
            "|nm0000124|Jennifer Connelly|tt0180093|\n",
            "|nm0000124|Jennifer Connelly|tt0268978|\n",
            "|nm0000124|Jennifer Connelly|tt0102803|\n",
            "|nm0000143|    Erika Eleniak|tt0083866|\n",
            "|nm0000143|    Erika Eleniak|tt0094761|\n",
            "|nm0000143|    Erika Eleniak|tt0106400|\n",
            "|nm0000143|    Erika Eleniak|tt0105690|\n",
            "|nm0000157|   Linda Hamilton|tt0103064|\n",
            "|nm0000157|   Linda Hamilton|tt6450804|\n",
            "|nm0000157|   Linda Hamilton|tt0088247|\n",
            "|nm0000157|   Linda Hamilton|tt0118928|\n",
            "+---------+-----------------+---------+\n",
            "only showing top 20 rows\n",
            "\n"
          ],
          "name": "stdout"
        }
      ]
    },
    {
      "cell_type": "code",
      "metadata": {
        "id": "46MxaJHgJV-F",
        "colab": {
          "base_uri": "https://localhost:8080/"
        },
        "outputId": "8649dc39-99c1-4f3e-bfc1-3381ca7aa48d"
      },
      "source": [
        "from pyspark.sql import functions as F\n",
        "transactions= actors_df_explode.groupby(\"col\").agg(F.collect_list(\"primaryName\").alias('PrimaryNames'), F.collect_list(\"nconst\").alias('nconst'))\n",
        "transactions.show()"
      ],
      "execution_count": null,
      "outputs": [
        {
          "output_type": "stream",
          "text": [
            "+---------+--------------------+--------------------+\n",
            "|      col|        PrimaryNames|              nconst|\n",
            "+---------+--------------------+--------------------+\n",
            "|tt0001170|    [Clara Williams]|         [nm0930290]|\n",
            "|tt0002588|        [Léon Durac]|         [nm0243648]|\n",
            "|tt0002591|[Martha Angerstei...|         [nm0029806]|\n",
            "|tt0003644|     [Norman Howard]|         [nm0397525]|\n",
            "|tt0003689|[Octave Luzon, Mr...|[nm0527801, nm091...|\n",
            "|tt0004272|[Harry L. Rattenb...|[nm0711886, nm077...|\n",
            "|tt0004336|[John Burke, Jame...|[nm1752653, nm175...|\n",
            "|tt0004599|    [Lucille Bolton]|         [nm0093420]|\n",
            "|tt0005209|[Max Davidson, De...|[nm0203439, nm039...|\n",
            "|tt0005605|[Minnie Berlin, W...|[nm0075601, nm036...|\n",
            "|tt0006204|[Blanche Bennett,...|[nm0071618, nm050...|\n",
            "|tt0006207|[Francesca Cappel...|[nm0135474, nm023...|\n",
            "|tt0006441|     [Martin Kinney]|         [nm0455748]|\n",
            "|tt0006489|[Robert McKim, P....|[nm0571770, nm084...|\n",
            "|tt0006587|     [Miriam Shelby]|         [nm0790977]|\n",
            "|tt0006819|[Alice Hechy, Sig...|[nm0372991, nm063...|\n",
            "|tt0006906|[Edward J.F. Lang...|         [nm0486029]|\n",
            "|tt0007011|[Mary Bunting, Vi...|[nm0120577, nm092...|\n",
            "|tt0007565|[Laurence Leyton,...|[nm0508107, nm060...|\n",
            "|tt0007694|[Robert Forsyth, ...|[nm0287067, nm062...|\n",
            "+---------+--------------------+--------------------+\n",
            "only showing top 20 rows\n",
            "\n"
          ],
          "name": "stdout"
        }
      ]
    },
    {
      "cell_type": "code",
      "metadata": {
        "colab": {
          "base_uri": "https://localhost:8080/"
        },
        "id": "a3yWzpYjuBwv",
        "outputId": "c587ee76-1f47-48c7-ba2e-fc658fd9becd"
      },
      "source": [
        "print((transactions.count(), len(transactions.columns)))"
      ],
      "execution_count": null,
      "outputs": [
        {
          "output_type": "stream",
          "text": [
            "(835096, 3)\n"
          ],
          "name": "stdout"
        }
      ]
    },
    {
      "cell_type": "code",
      "metadata": {
        "id": "BSJRVY39a5RE"
      },
      "source": [
        "from pyspark.sql.functions import size, explode, col, split\n",
        "transactions=transactions.select('*',size('nconst').alias('NumberActors'))"
      ],
      "execution_count": null,
      "outputs": []
    },
    {
      "cell_type": "code",
      "metadata": {
        "colab": {
          "base_uri": "https://localhost:8080/"
        },
        "id": "G9w4jtEwoFaj",
        "outputId": "d5be4475-8826-49b2-9767-21dcd21e02f0"
      },
      "source": [
        "transactions.show()"
      ],
      "execution_count": null,
      "outputs": [
        {
          "output_type": "stream",
          "text": [
            "+---------+--------------------+--------------------+------------+\n",
            "|      col|        PrimaryNames|              nconst|NumberActors|\n",
            "+---------+--------------------+--------------------+------------+\n",
            "|tt0001170|    [Clara Williams]|         [nm0930290]|           1|\n",
            "|tt0002588|        [Léon Durac]|         [nm0243648]|           1|\n",
            "|tt0002591|[Martha Angerstei...|         [nm0029806]|           1|\n",
            "|tt0003644|     [Norman Howard]|         [nm0397525]|           1|\n",
            "|tt0003689|[Octave Luzon, Mr...|[nm0527801, nm091...|           2|\n",
            "|tt0004272|[Harry L. Rattenb...|[nm0711886, nm077...|           4|\n",
            "|tt0004336|[John Burke, Jame...|[nm1752653, nm175...|          15|\n",
            "|tt0004599|    [Lucille Bolton]|         [nm0093420]|           1|\n",
            "|tt0005209|[Max Davidson, De...|[nm0203439, nm039...|           2|\n",
            "|tt0005605|[Minnie Berlin, W...|[nm0075601, nm036...|           2|\n",
            "|tt0006204|[Blanche Bennett,...|[nm0071618, nm050...|           3|\n",
            "|tt0006207|[Francesca Cappel...|[nm0135474, nm023...|           2|\n",
            "|tt0006441|     [Martin Kinney]|         [nm0455748]|           1|\n",
            "|tt0006489|[Robert McKim, P....|[nm0571770, nm084...|           2|\n",
            "|tt0006587|     [Miriam Shelby]|         [nm0790977]|           1|\n",
            "|tt0006819|[Alice Hechy, Sig...|[nm0372991, nm063...|           6|\n",
            "|tt0006906|[Edward J.F. Lang...|         [nm0486029]|           1|\n",
            "|tt0007011|[Mary Bunting, Vi...|[nm0120577, nm092...|           2|\n",
            "|tt0007565|[Laurence Leyton,...|[nm0508107, nm060...|           2|\n",
            "|tt0007694|[Robert Forsyth, ...|[nm0287067, nm062...|           3|\n",
            "+---------+--------------------+--------------------+------------+\n",
            "only showing top 20 rows\n",
            "\n"
          ],
          "name": "stdout"
        }
      ]
    },
    {
      "cell_type": "markdown",
      "metadata": {
        "id": "ifXqXMjjLvd5"
      },
      "source": [
        "### **FP-Growth**"
      ]
    },
    {
      "cell_type": "code",
      "metadata": {
        "id": "7oA5RuqxG9Ld",
        "colab": {
          "base_uri": "https://localhost:8080/"
        },
        "outputId": "8e5dc773-da8f-4479-ad2f-289924af8f99"
      },
      "source": [
        "from pyspark.ml.fpm import FPGrowth\n",
        "import time\n",
        "\n",
        "start_time = time.time()\n",
        "fpGrowth = FPGrowth(itemsCol=\"nconst\", minSupport=0.000005)\n",
        "model = fpGrowth.fit(transactions)\n",
        "fp_results= model.freqItemsets\n",
        "print(\"Executed in %.2f seconds ---\" % (time.time() - start_time))"
      ],
      "execution_count": null,
      "outputs": [
        {
          "output_type": "stream",
          "text": [
            "Executed in 87.39 seconds ---\n"
          ],
          "name": "stdout"
        }
      ]
    },
    {
      "cell_type": "code",
      "metadata": {
        "id": "ZjGiO6SrJrbA"
      },
      "source": [
        "# Display frequent itemsets.\n",
        "fp_results=fp_results.withColumn('nconst', fp_results.items[0])\n",
        "fp_results=fp_results.join(actors_df, on=('nconst')).drop('birthYear', 'deathYear', 'items', 'knownForTitles')"
      ],
      "execution_count": null,
      "outputs": []
    },
    {
      "cell_type": "code",
      "metadata": {
        "id": "hrdmIcGQOdGM",
        "colab": {
          "base_uri": "https://localhost:8080/"
        },
        "outputId": "8eeac25a-6a2d-4ccc-8a08-02fc1f06bbb1"
      },
      "source": [
        "fp_results.sort(fp_results.freq.desc()).show(70)"
      ],
      "execution_count": null,
      "outputs": [
        {
          "output_type": "stream",
          "text": [
            "+---------+----+--------------------+-----------------+\n",
            "|   nconst|freq|         primaryName|primaryProfession|\n",
            "+---------+----+--------------------+-----------------+\n",
            "|nm4517234|   6|        Claydee Lupa|            actor|\n",
            "|nm0472407|   6|        Dora Krsková|          actress|\n",
            "|nm4079966|   5|     Jordan Bernarde|            actor|\n",
            "|nm0017292|   5|         Bill Alcorn|            actor|\n",
            "|nm6038165|   5|       Kuan-Ting Liu|            actor|\n",
            "|nm0662565|   5|         Reed Parker|            actor|\n",
            "|nm0186937|   5|        Hal Le Sueur|            actor|\n",
            "|nm1708736|   5|      Sloan DeForest|          actress|\n",
            "|nm5756622|   5|        Aaliyah Rose|          actress|\n",
            "|nm3294984|   5| Carl Paul Ezold Jr.|            actor|\n",
            "|nm3304752|   5|      Giselle Davila|          actress|\n",
            "|nm5457566|   5|         Katie Reese|          actress|\n",
            "|nm1948317|   5|     Chelsea Johnson|          actress|\n",
            "|nm2838205|   5|Evangeline Gabrie...|          actress|\n",
            "|nm5613952|   5|          Audrey Luo|          actress|\n",
            "|nm0686428|   5|      Demetra Plakas|          actress|\n",
            "|nm0361727|   5|        Reiko Oimori|          actress|\n",
            "|nm1218414|   5|    Yannis Zoubantis|            actor|\n",
            "|nm5092676|   5|      Joey Biohazard|            actor|\n",
            "|nm2591423|   5|Logan William McPeak|            actor|\n",
            "|nm8805467|   5|        Marco Joseph|            actor|\n",
            "|nm9828634|   5|  Simon James Kippen|            actor|\n",
            "|nm0891937|   5|         Candy Vegas|          actress|\n",
            "|nm1163810|   5|         Yanhua Chen|          actress|\n",
            "+---------+----+--------------------+-----------------+\n",
            "\n"
          ],
          "name": "stdout"
        }
      ]
    },
    {
      "cell_type": "markdown",
      "metadata": {
        "id": "Mq8jiFrTaHYz"
      },
      "source": [
        "### Apriori"
      ]
    },
    {
      "cell_type": "code",
      "metadata": {
        "id": "SDeNgqFyaGNe"
      },
      "source": [
        "import itertools\n",
        "from collections import defaultdict\n",
        "\n",
        "def getCandidateItemsets(frequents,k):\n",
        "    elements=set() #set of single items\n",
        "   \n",
        "    #for candidate triples,quadruples,..\n",
        "    if(k>2):\n",
        "        for itemsets in frequents: \n",
        "            for item in itemsets: \n",
        "                elements.add(item) \n",
        "    \n",
        "    #for candidate pairs\n",
        "    elif(k==2):\n",
        "        for item in frequents:   \n",
        "            elements.add(item) \n",
        "    \n",
        "    #get candidate items (pairs, triples,..) by combining single items \n",
        "    candidateItemsets=[set(itemsets) for itemsets in list(itertools.combinations(elements, k))] \n",
        "    \n",
        "    return candidateItemsets\n",
        "\n",
        "    \n",
        "def getFrequentItemsets(candidateItemsets,transactions,support):\n",
        "    itemsetsFrequency = defaultdict(int) \n",
        "    baskets= transactions.collect()\n",
        "    \n",
        "    #calculate the frequency for each candidate itemset in the baskets\n",
        "    for itemset in candidateItemsets: \n",
        "        for basket in baskets: \n",
        "            if itemset.issubset(basket): \n",
        "                itemsetsFrequency[frozenset(itemset)] += 1 \n",
        "\n",
        "    #retain only frequent itemsets\n",
        "    frequentItemsets= []   \n",
        "    for item in itemsetsFrequency.items(): \n",
        "        if item[1] >= support: \n",
        "            frequentItemsets.append(item) \n",
        "\n",
        "    return frequentItemsets\n",
        "\n",
        "def aprioriAlgorithm(transactions, support):\n",
        "  apriori_frequent=[]\n",
        "  singletonMap= transactions.flatMap(lambda line: line).map(lambda item: (item , 1))\n",
        "  singletonMap=singletonMap.reduceByKey(lambda a,b: (a+b))\n",
        "  frequentSingletons= singletonMap.filter(lambda item: item[1] >= support)\n",
        "  frequents= frequentSingletons.map(lambda item: item[0]).collect()\n",
        "  apriori_frequent= frequentSingletons.collect()\n",
        "\n",
        "  k=2\n",
        "  while(len(frequents) != 0):   \n",
        "        #retrive list of candidate pairs, triples, ...\n",
        "        candidateItemsets=getCandidateItemsets(frequents,k) \n",
        "        #retain candidate pairs, triples... that are frequent  \n",
        "        frequentItemsets=getFrequentItemsets(candidateItemsets,transactions,support)\n",
        "        if (frequentItemsets): \n",
        "            apriori_frequent.append(frequentItemsets)  \n",
        "        frequents=frequentItemsets \n",
        "        k=k+1 \n",
        "\n",
        "\n",
        "  return apriori_frequent"
      ],
      "execution_count": null,
      "outputs": []
    },
    {
      "cell_type": "code",
      "metadata": {
        "id": "UTR3bHHnaSng"
      },
      "source": [
        "#get transactions from table\n",
        "transactions=transactions.select('nconst').rdd.flatMap(lambda x: x)\n",
        "lines = transactions.map(lambda line: ','.join(str(d) for d in line))\n",
        "lines.saveAsTextFile('transactions_actors_singlerole.txt')\n",
        "trans = sc.textFile('transactions_actors_singlerole.txt').map(lambda x: [str(y) for y in x.strip().split(',')])"
      ],
      "execution_count": null,
      "outputs": []
    },
    {
      "cell_type": "code",
      "metadata": {
        "id": "oBczH4E8a2mi",
        "colab": {
          "base_uri": "https://localhost:8080/"
        },
        "outputId": "b5a421e5-1f48-44dc-fac6-d3418ea795aa"
      },
      "source": [
        "#apply Apriori\n",
        "import time\n",
        "start_time = time.time()\n",
        "minSupport=5\n",
        "aprioriResult_singlerole= aprioriAlgorithm(trans, minSupport)\n",
        "print(\" Executed in %.2f seconds ---\" % (time.time() - start_time))"
      ],
      "execution_count": null,
      "outputs": [
        {
          "output_type": "stream",
          "text": [
            " Executed in 194.65 seconds ---\n"
          ],
          "name": "stdout"
        }
      ]
    },
    {
      "cell_type": "code",
      "metadata": {
        "colab": {
          "base_uri": "https://localhost:8080/"
        },
        "id": "skSwvGS3b-TX",
        "outputId": "ce9fef71-4b39-4695-d981-62ec0d2f6e40"
      },
      "source": [
        "#display apriori result\n",
        "aprioriResult_singlerole"
      ],
      "execution_count": null,
      "outputs": [
        {
          "output_type": "execute_result",
          "data": {
            "text/plain": [
              "[('nm1948317', 5),\n",
              " ('nm1218414', 5),\n",
              " ('nm5756622', 5),\n",
              " ('nm9828634', 5),\n",
              " ('nm2838205', 5),\n",
              " ('nm0891937', 5),\n",
              " ('nm5457566', 5),\n",
              " ('nm6038165', 5),\n",
              " ('nm4517234', 6),\n",
              " ('nm0017292', 5),\n",
              " ('nm0662565', 5),\n",
              " ('nm0686428', 5),\n",
              " ('nm1708736', 5),\n",
              " ('nm5092676', 5),\n",
              " ('nm0186937', 5),\n",
              " ('nm4079966', 5),\n",
              " ('nm3304752', 5),\n",
              " ('nm0472407', 6),\n",
              " ('nm5613952', 5),\n",
              " ('nm0361727', 5),\n",
              " ('nm3294984', 5),\n",
              " ('nm8805467', 5),\n",
              " ('nm1163810', 5),\n",
              " ('nm2591423', 5)]"
            ]
          },
          "metadata": {
            "tags": []
          },
          "execution_count": 19
        }
      ]
    },
    {
      "cell_type": "markdown",
      "metadata": {
        "id": "UpSOjTbmkRDk"
      },
      "source": [
        "# **Frequent itemsets - Actors with other roles**\n",
        "In this section I analyze and apply fp-growth algorithm to records of characters that are actor/actress but play also other roles. \n",
        "Here I show the example of \"Keith Manning\" who appears as actor and in other roles but also appears as actor and writer in the same movie. In this case I keep this record Then I create a new dataframe called `actors_wroles_df`. "
      ]
    },
    {
      "cell_type": "markdown",
      "metadata": {
        "id": "OacmLMsclZJy"
      },
      "source": [
        "### **Drop records on non-actors**"
      ]
    },
    {
      "cell_type": "code",
      "metadata": {
        "colab": {
          "base_uri": "https://localhost:8080/"
        },
        "id": "T6snZm-wkQFh",
        "outputId": "6bd1f790-d144-4255-9c62-b618e0acd036"
      },
      "source": [
        "#original data\n",
        "names_df.filter(names_df.primaryName == \"Keith Manning\").show(truncate=False)"
      ],
      "execution_count": null,
      "outputs": [
        {
          "output_type": "stream",
          "text": [
            "+---------+-------------+---------+---------+--------------------------------+---------------------------------------+\n",
            "|nconst   |primaryName  |birthYear|deathYear|primaryProfession               |knownForTitles                         |\n",
            "+---------+-------------+---------+---------+--------------------------------+---------------------------------------+\n",
            "|nm0003513|Keith Manning|\\N       |\\N       |camera_department,visual_effects|tt0988045,tt2802144,tt0816711,tt0434409|\n",
            "|nm2622337|Keith Manning|\\N       |\\N       |actor,writer                    |tt2359298,tt1795011,tt1008713,tt2010966|\n",
            "|nm4796978|Keith Manning|\\N       |\\N       |actor                           |tt2125515                              |\n",
            "|nm5237004|Keith Manning|\\N       |\\N       |null                            |\\N                                     |\n",
            "|nm7471983|Keith Manning|\\N       |\\N       |actor                           |tt4789618                              |\n",
            "|nm8870750|Keith Manning|\\N       |\\N       |actor                           |tt0243652                              |\n",
            "+---------+-------------+---------+---------+--------------------------------+---------------------------------------+\n",
            "\n"
          ],
          "name": "stdout"
        }
      ]
    },
    {
      "cell_type": "code",
      "metadata": {
        "id": "yWRoGXRPljzS"
      },
      "source": [
        "#keep records that have at least actor/actress \n",
        "actors_wroles_df=names_df.filter((names_df.primaryProfession.contains('actor'))|(names_df.primaryProfession.contains('actress')))"
      ],
      "execution_count": null,
      "outputs": []
    },
    {
      "cell_type": "code",
      "metadata": {
        "colab": {
          "base_uri": "https://localhost:8080/"
        },
        "id": "kubwzo4glu4u",
        "outputId": "e97bc03c-3f05-44ea-b562-cc5c58c267d9"
      },
      "source": [
        "#retain only actors information rsult \n",
        "actors_wroles_df.filter(actors_wroles_df.primaryName == \"Keith Manning\").show(truncate=False)"
      ],
      "execution_count": null,
      "outputs": [
        {
          "output_type": "stream",
          "text": [
            "+---------+-------------+---------+---------+-----------------+---------------------------------------+\n",
            "|nconst   |primaryName  |birthYear|deathYear|primaryProfession|knownForTitles                         |\n",
            "+---------+-------------+---------+---------+-----------------+---------------------------------------+\n",
            "|nm2622337|Keith Manning|\\N       |\\N       |actor,writer     |tt2359298,tt1795011,tt1008713,tt2010966|\n",
            "|nm4796978|Keith Manning|\\N       |\\N       |actor            |tt2125515                              |\n",
            "|nm7471983|Keith Manning|\\N       |\\N       |actor            |tt4789618                              |\n",
            "|nm8870750|Keith Manning|\\N       |\\N       |actor            |tt0243652                              |\n",
            "+---------+-------------+---------+---------+-----------------+---------------------------------------+\n",
            "\n"
          ],
          "name": "stdout"
        }
      ]
    },
    {
      "cell_type": "code",
      "metadata": {
        "colab": {
          "base_uri": "https://localhost:8080/"
        },
        "id": "PPEOOlK-l4dX",
        "outputId": "968c61db-37ac-4200-bff9-db7ccbc2001e"
      },
      "source": [
        "print((actors_wroles_df.count(), len(actors_wroles_df.columns)))"
      ],
      "execution_count": null,
      "outputs": [
        {
          "output_type": "stream",
          "text": [
            "(3624970, 6)\n"
          ],
          "name": "stdout"
        }
      ]
    },
    {
      "cell_type": "markdown",
      "metadata": {
        "id": "cW3Vyq35l86C"
      },
      "source": [
        "### **Null Values** <br>\n",
        "Check null values in both tables, in the columns of interest for this task: <br>\n",
        "- actors_wroles_df: check columns `nconst`, `primaryName` and `knownForTitles`\n",
        "- movies_df: check column `tconst`\n"
      ]
    },
    {
      "cell_type": "code",
      "metadata": {
        "colab": {
          "base_uri": "https://localhost:8080/"
        },
        "id": "FJdhkLEtmDx9",
        "outputId": "16a75db7-a472-4a7f-cdb9-846d43aabba5"
      },
      "source": [
        "actors_wroles_df.filter(actors_wroles_df.knownForTitles.contains('\\\\N')).show(truncate=False)"
      ],
      "execution_count": null,
      "outputs": [
        {
          "output_type": "stream",
          "text": [
            "+---------+---------------------+---------+---------+------------------------------------------+--------------+\n",
            "|nconst   |primaryName          |birthYear|deathYear|primaryProfession                         |knownForTitles|\n",
            "+---------+---------------------+---------+---------+------------------------------------------+--------------+\n",
            "|nm0008670|Arline Abers         |\\N       |\\N       |actress                                   |\\N            |\n",
            "|nm0010257|Ángel Acosta         |\\N       |\\N       |actor                                     |\\N            |\n",
            "|nm0023948|Jay Amar             |\\N       |\\N       |actor                                     |\\N            |\n",
            "|nm0024384|Charles Ambrose      |\\N       |\\N       |actor                                     |\\N            |\n",
            "|nm0025869|Ben Ka-Seung Ting    |\\N       |\\N       |actor                                     |\\N            |\n",
            "|nm0038495|Anton Van Leer Ascher|1868     |1928     |actor                                     |\\N            |\n",
            "|nm0043020|Christina Avery      |\\N       |\\N       |actress                                   |\\N            |\n",
            "|nm0060224|Melinda Bassett      |\\N       |\\N       |actress                                   |\\N            |\n",
            "|nm0062077|Christine Baum       |\\N       |\\N       |actress                                   |\\N            |\n",
            "|nm0065815|Russell R. Beckman   |1962     |\\N       |actor                                     |\\N            |\n",
            "|nm0137849|Sean Carlsen         |\\N       |\\N       |actor,camera_department,production_manager|\\N            |\n",
            "|nm0138189|Eve Carlton          |\\N       |\\N       |actress                                   |\\N            |\n",
            "|nm0147587|Sarah Ceccarini      |\\N       |\\N       |actress                                   |\\N            |\n",
            "|nm0173656|Lauralei Combs       |1958     |\\N       |actress                                   |\\N            |\n",
            "|nm0174432|Frank Condos         |1906     |\\N       |actor                                     |\\N            |\n",
            "|nm0206028|Michelle Dawn        |\\N       |\\N       |actress                                   |\\N            |\n",
            "|nm0243720|Michael Duran        |\\N       |\\N       |actor                                     |\\N            |\n",
            "|nm0257097|Jeff Engel           |\\N       |\\N       |actor                                     |\\N            |\n",
            "|nm0263282|Trevor Evans         |1902     |1981     |actor                                     |\\N            |\n",
            "|nm0316461|Jo Gibb              |1976     |\\N       |actress,soundtrack                        |\\N            |\n",
            "+---------+---------------------+---------+---------+------------------------------------------+--------------+\n",
            "only showing top 20 rows\n",
            "\n"
          ],
          "name": "stdout"
        }
      ]
    },
    {
      "cell_type": "code",
      "metadata": {
        "colab": {
          "base_uri": "https://localhost:8080/"
        },
        "id": "Uqk8SGtAmLo9",
        "outputId": "3dacf5d9-52c8-4992-f317-f36ca9eb8a0d"
      },
      "source": [
        "#remove records with null values\n",
        "actors_wroles_df= actors_wroles_df.filter(actors_wroles_df.knownForTitles != '\\\\N')\n",
        "actors_wroles_df.show()"
      ],
      "execution_count": null,
      "outputs": [
        {
          "output_type": "stream",
          "text": [
            "+---------+-------------------+---------+---------+--------------------+--------------------+\n",
            "|   nconst|        primaryName|birthYear|deathYear|   primaryProfession|      knownForTitles|\n",
            "+---------+-------------------+---------+---------+--------------------+--------------------+\n",
            "|nm0000001|       Fred Astaire|     1899|     1987|soundtrack,actor,...|tt0050419,tt00531...|\n",
            "|nm0000002|      Lauren Bacall|     1924|     2014|  actress,soundtrack|tt0071877,tt01170...|\n",
            "|nm0000003|    Brigitte Bardot|     1934|       \\N|actress,soundtrac...|tt0054452,tt00491...|\n",
            "|nm0000004|       John Belushi|     1949|     1982|actor,writer,soun...|tt0077975,tt00725...|\n",
            "|nm0000005|     Ingmar Bergman|     1918|     2007|writer,director,a...|tt0069467,tt00509...|\n",
            "|nm0000006|     Ingrid Bergman|     1915|     1982|actress,soundtrac...|tt0038109,tt00368...|\n",
            "|nm0000007|    Humphrey Bogart|     1899|     1957|actor,soundtrack,...|tt0043265,tt00338...|\n",
            "|nm0000008|      Marlon Brando|     1924|     2004|actor,soundtrack,...|tt0070849,tt00787...|\n",
            "|nm0000009|     Richard Burton|     1925|     1984|actor,producer,so...|tt0057877,tt00878...|\n",
            "|nm0000010|       James Cagney|     1899|     1986|actor,soundtrack,...|tt0035575,tt00318...|\n",
            "|nm0000011|        Gary Cooper|     1901|     1961|actor,soundtrack,...|tt0027996,tt00341...|\n",
            "|nm0000012|        Bette Davis|     1908|     1989|actress,soundtrac...|tt0031210,tt00421...|\n",
            "|nm0000013|          Doris Day|     1922|     2019|soundtrack,actres...|tt0053172,tt00551...|\n",
            "|nm0000014|Olivia de Havilland|     1916|       \\N|  actress,soundtrack|tt0029843,tt00313...|\n",
            "|nm0000015|         James Dean|     1931|     1955| actor,miscellaneous|tt0048545,tt00480...|\n",
            "|nm0000017|   Marlene Dietrich|     1901|     1992|soundtrack,actres...|tt0051201,tt00211...|\n",
            "|nm0000018|       Kirk Douglas|     1916|       \\N|actor,producer,so...|tt0054331,tt00433...|\n",
            "|nm0000020|        Henry Fonda|     1905|     1982|actor,producer,so...|tt0082846,tt00325...|\n",
            "|nm0000021|      Joan Fontaine|     1917|     2013|actress,soundtrac...|tt0032976,tt00342...|\n",
            "|nm0000022|        Clark Gable|     1901|     1960|actor,soundtrack,...|tt0025316,tt00267...|\n",
            "+---------+-------------------+---------+---------+--------------------+--------------------+\n",
            "only showing top 20 rows\n",
            "\n"
          ],
          "name": "stdout"
        }
      ]
    },
    {
      "cell_type": "code",
      "metadata": {
        "colab": {
          "base_uri": "https://localhost:8080/"
        },
        "id": "KeHeN-jOmQza",
        "outputId": "e98a5226-f54a-4dd6-a971-9f9a70ac5fc9"
      },
      "source": [
        "actors_wroles_df.filter(actors_wroles_df.primaryName.contains('\\\\N')).show(truncate=False)"
      ],
      "execution_count": null,
      "outputs": [
        {
          "output_type": "stream",
          "text": [
            "+------+-----------+---------+---------+-----------------+--------------+\n",
            "|nconst|primaryName|birthYear|deathYear|primaryProfession|knownForTitles|\n",
            "+------+-----------+---------+---------+-----------------+--------------+\n",
            "+------+-----------+---------+---------+-----------------+--------------+\n",
            "\n"
          ],
          "name": "stdout"
        }
      ]
    },
    {
      "cell_type": "code",
      "metadata": {
        "colab": {
          "base_uri": "https://localhost:8080/"
        },
        "id": "5c862RBsmTVX",
        "outputId": "6aac1717-04d3-4c95-9575-aa019614a572"
      },
      "source": [
        "actors_wroles_df.filter(actors_wroles_df.nconst.contains('\\\\N')).show(truncate=False)"
      ],
      "execution_count": null,
      "outputs": [
        {
          "output_type": "stream",
          "text": [
            "+------+-----------+---------+---------+-----------------+--------------+\n",
            "|nconst|primaryName|birthYear|deathYear|primaryProfession|knownForTitles|\n",
            "+------+-----------+---------+---------+-----------------+--------------+\n",
            "+------+-----------+---------+---------+-----------------+--------------+\n",
            "\n"
          ],
          "name": "stdout"
        }
      ]
    },
    {
      "cell_type": "markdown",
      "metadata": {
        "id": "7vSQ77y3mZYS"
      },
      "source": [
        "### **Number of appearances**\n",
        "This summary shows how many actors appear in 1 movie, 2 movies ecc, in order to have a clear picture that will be useful to choose the support treshold to find frequent itemsets. "
      ]
    },
    {
      "cell_type": "code",
      "metadata": {
        "colab": {
          "base_uri": "https://localhost:8080/"
        },
        "id": "N8WJnSeFmb12",
        "outputId": "bece85d2-3419-45fb-a242-9fdb5e3c0e56"
      },
      "source": [
        "from pyspark.sql.functions import size, explode, col, split\n",
        "df = actors_wroles_df.select(split(col(\"knownForTitles\"),\",\").alias(\"TitlesArray\"))\n",
        "df = df.select('*',size('TitlesArray').alias('NumberMoviesAppearances'))\n",
        "df=df.groupBy('NumberMoviesAppearances').count()\n",
        "df.withColumnRenamed('count', 'NumberOfActors').sort('NumberOfActors', ord='desc').show()"
      ],
      "execution_count": null,
      "outputs": [
        {
          "output_type": "stream",
          "text": [
            "+-----------------------+--------------+\n",
            "|NumberMoviesAppearances|NumberOfActors|\n",
            "+-----------------------+--------------+\n",
            "|                      8|             1|\n",
            "|                      7|             1|\n",
            "|                      6|             3|\n",
            "|                      5|            56|\n",
            "|                      3|        216409|\n",
            "|                      2|        443047|\n",
            "|                      4|        785985|\n",
            "|                      1|       1931525|\n",
            "+-----------------------+--------------+\n",
            "\n"
          ],
          "name": "stdout"
        }
      ]
    },
    {
      "cell_type": "code",
      "metadata": {
        "colab": {
          "base_uri": "https://localhost:8080/",
          "height": 411
        },
        "id": "DBlJWBTpmnvF",
        "outputId": "d911a92c-aa8d-403c-9186-e2bcbe36672f"
      },
      "source": [
        "import matplotlib.pyplot as plt\n",
        "\n",
        "labels = '1 movie', '2 movies', '3 movies', '4 movies', '5-8 movies'\n",
        "sizes = [1931525, 443047, 216409, 785985, 61]\n",
        "explode = (0, 0, 0, 0, 0.1)  \n",
        "\n",
        "fig1, ax1 = plt.subplots()\n",
        "ax1.pie(sizes, explode=explode, labels=labels, autopct='%1.3f%%', startangle=180)\n",
        "fig1.set_size_inches(7, 7)\n",
        "plt.show()"
      ],
      "execution_count": null,
      "outputs": [
        {
          "output_type": "display_data",
          "data": {
            "image/png": "[encoded data removed]",
            "text/plain": [
              "<Figure size 504x504 with 1 Axes>"
            ]
          },
          "metadata": {
            "tags": []
          }
        }
      ]
    },
    {
      "cell_type": "markdown",
      "metadata": {
        "id": "hmcaI3-Emtoh"
      },
      "source": [
        "### **Drop unnecessary columns in both dataframes**"
      ]
    },
    {
      "cell_type": "code",
      "metadata": {
        "id": "XkL0KwfymwCQ"
      },
      "source": [
        "actors_wroles_df_reduced= actors_wroles_df.drop('birthYear', 'deathYear', 'primaryProfession')"
      ],
      "execution_count": null,
      "outputs": []
    },
    {
      "cell_type": "markdown",
      "metadata": {
        "id": "lcV-jjv_nArX"
      },
      "source": [
        "### **Get Transactions table** <br>\n",
        "Join the two tables to create a datframe containing transactions, where movies represent buckets and actors represent items. The transactions dataframe will look something like this: <br>\n",
        "\n",
        "\n",
        "```\n",
        "tconst|nconst \n",
        "tt0..1| nm0000001, nm0000002,..\n",
        "```\n"
      ]
    },
    {
      "cell_type": "code",
      "metadata": {
        "colab": {
          "base_uri": "https://localhost:8080/"
        },
        "id": "l9EjtQ0cnCpS",
        "outputId": "6d777cfa-b252-4cc1-e8da-328d510658e8"
      },
      "source": [
        "from pyspark.sql.functions import split, explode, col\n",
        "actors_df_wroles_explode = actors_wroles_df_reduced.select(actors_wroles_df_reduced.nconst,actors_wroles_df_reduced.primaryName,explode(split(col(\"knownForTitles\"), \",\\s*\")))\n",
        "actors_df_wroles_explode.printSchema()\n",
        "actors_df_wroles_explode.show()"
      ],
      "execution_count": null,
      "outputs": [
        {
          "output_type": "stream",
          "text": [
            "root\n",
            " |-- nconst: string (nullable = true)\n",
            " |-- primaryName: string (nullable = true)\n",
            " |-- col: string (nullable = true)\n",
            "\n",
            "+---------+---------------+---------+\n",
            "|   nconst|    primaryName|      col|\n",
            "+---------+---------------+---------+\n",
            "|nm0000001|   Fred Astaire|tt0050419|\n",
            "|nm0000001|   Fred Astaire|tt0053137|\n",
            "|nm0000001|   Fred Astaire|tt0072308|\n",
            "|nm0000001|   Fred Astaire|tt0043044|\n",
            "|nm0000002|  Lauren Bacall|tt0071877|\n",
            "|nm0000002|  Lauren Bacall|tt0117057|\n",
            "|nm0000002|  Lauren Bacall|tt0038355|\n",
            "|nm0000002|  Lauren Bacall|tt0037382|\n",
            "|nm0000003|Brigitte Bardot|tt0054452|\n",
            "|nm0000003|Brigitte Bardot|tt0049189|\n",
            "|nm0000003|Brigitte Bardot|tt0059956|\n",
            "|nm0000003|Brigitte Bardot|tt0057345|\n",
            "|nm0000004|   John Belushi|tt0077975|\n",
            "|nm0000004|   John Belushi|tt0072562|\n",
            "|nm0000004|   John Belushi|tt0080455|\n",
            "|nm0000004|   John Belushi|tt0078723|\n",
            "|nm0000005| Ingmar Bergman|tt0069467|\n",
            "|nm0000005| Ingmar Bergman|tt0050976|\n",
            "|nm0000005| Ingmar Bergman|tt0083922|\n",
            "|nm0000005| Ingmar Bergman|tt0050986|\n",
            "+---------+---------------+---------+\n",
            "only showing top 20 rows\n",
            "\n"
          ],
          "name": "stdout"
        }
      ]
    },
    {
      "cell_type": "code",
      "metadata": {
        "colab": {
          "base_uri": "https://localhost:8080/"
        },
        "id": "7Vm0QVmhnNTQ",
        "outputId": "440cebc1-dd42-4939-f257-4026ac74d705"
      },
      "source": [
        "from pyspark.sql import functions as F\n",
        "transactions_wroles= actors_df_wroles_explode.groupby(\"col\").agg(F.collect_list(\"primaryName\").alias('PrimaryNames'), F.collect_list(\"nconst\").alias('nconst'))\n",
        "transactions_wroles.show()"
      ],
      "execution_count": null,
      "outputs": [
        {
          "output_type": "stream",
          "text": [
            "+---------+--------------------+--------------------+\n",
            "|      col|        PrimaryNames|              nconst|\n",
            "+---------+--------------------+--------------------+\n",
            "|tt0001170|    [Clara Williams]|         [nm0930290]|\n",
            "|tt0002588|        [Léon Durac]|         [nm0243648]|\n",
            "|tt0002591|[Martha Angerstei...|         [nm0029806]|\n",
            "|tt0003644|     [Norman Howard]|         [nm0397525]|\n",
            "|tt0003689|[Mrs. E. Walton, ...|[nm0910564, nm052...|\n",
            "|tt0004272|[Eva Thatcher, Je...|[nm0857118, nm036...|\n",
            "|tt0004336|[Laddie the Dog, ...|[nm2919069, nm175...|\n",
            "|tt0004599|[Lucille Bolton, ...|[nm0093420, nm011...|\n",
            "|tt0005209|[Fay Tincher, Max...|[nm0863863, nm020...|\n",
            "|tt0005605|[Minnie Berlin, E...|[nm0075601, nm032...|\n",
            "|tt0006204|[Blanche Bennett,...|[nm0071618, nm050...|\n",
            "|tt0006207|[Francesca Cappel...|[nm0135474, nm023...|\n",
            "|tt0006441|     [Martin Kinney]|         [nm0455748]|\n",
            "|tt0006489|[P. Dempsey Table...|[nm0846003, nm057...|\n",
            "|tt0006587|     [Miriam Shelby]|         [nm0790977]|\n",
            "|tt0006819|[Kurt Wolowsky, A...|[nm0938668, nm037...|\n",
            "|tt0006906|[Edward J.F. Lang...|         [nm0486029]|\n",
            "|tt0007011|[Violet White, Ma...|[nm0925563, nm012...|\n",
            "|tt0007419|     [Arthur Hansen]|         [nm0360672]|\n",
            "|tt0007565|[Laurence Leyton,...|[nm0508107, nm060...|\n",
            "+---------+--------------------+--------------------+\n",
            "only showing top 20 rows\n",
            "\n"
          ],
          "name": "stdout"
        }
      ]
    },
    {
      "cell_type": "code",
      "metadata": {
        "colab": {
          "base_uri": "https://localhost:8080/"
        },
        "id": "9AirF6ZpvfkX",
        "outputId": "4a77a09f-7829-4987-bccf-234c7aca218f"
      },
      "source": [
        "print((transactions_wroles.count(), len(transactions_wroles.columns)))"
      ],
      "execution_count": null,
      "outputs": [
        {
          "output_type": "stream",
          "text": [
            "(1040687, 3)\n"
          ],
          "name": "stdout"
        }
      ]
    },
    {
      "cell_type": "markdown",
      "metadata": {
        "id": "6aRcE-ltsFFB"
      },
      "source": [
        "### **FP-Growth**"
      ]
    },
    {
      "cell_type": "code",
      "metadata": {
        "id": "1hKDW0kKqdEv",
        "colab": {
          "base_uri": "https://localhost:8080/"
        },
        "outputId": "228d1752-447a-4fe6-9e78-180876e96188"
      },
      "source": [
        "from pyspark.ml.fpm import FPGrowth\n",
        "import time\n",
        "\n",
        "start_time = time.time()\n",
        "fpGrowth2 = FPGrowth(itemsCol=\"nconst\", minSupport=0.000004)\n",
        "model2 = fpGrowth2.fit(transactions_wroles)\n",
        "fp_results_wroles= model2.freqItemsets\n",
        "print(\"Executed in %.2f seconds ---\" % (time.time() - start_time))"
      ],
      "execution_count": null,
      "outputs": [
        {
          "output_type": "stream",
          "text": [
            "Executed in 84.89 seconds ---\n"
          ],
          "name": "stdout"
        }
      ]
    },
    {
      "cell_type": "code",
      "metadata": {
        "id": "yNkXd_cerkEk"
      },
      "source": [
        "fp_results_wroles=fp_results_wroles.withColumn('nconst', fp_results_wroles.items[0])\n",
        "fp_results_wroles=fp_results_wroles.join(actors_wroles_df, on=('nconst')).drop('birthYear', 'deathYear', 'items', 'knownForTitles')"
      ],
      "execution_count": null,
      "outputs": []
    },
    {
      "cell_type": "code",
      "metadata": {
        "colab": {
          "base_uri": "https://localhost:8080/"
        },
        "id": "ga4LeMpDr08t",
        "outputId": "cf648c98-50d0-4ffe-c1ec-ebe085705199"
      },
      "source": [
        "fp_results_wroles.sort(fp_results_wroles.freq.desc()).show(70)"
      ],
      "execution_count": null,
      "outputs": [
        {
          "output_type": "stream",
          "text": [
            "+----------+----+--------------------+--------------------+\n",
            "|    nconst|freq|         primaryName|   primaryProfession|\n",
            "+----------+----+--------------------+--------------------+\n",
            "| nm1512084|   8|      Wolfgang Hofer|writer,soundtrack...|\n",
            "| nm0809850|   7|  Susan Duncan Smith|soundtrack,music_...|\n",
            "| nm6232022|   6|      Bill Mackenzie|actor,director,vi...|\n",
            "| nm0472407|   6|        Dora Krsková|             actress|\n",
            "| nm4517234|   6|        Claydee Lupa|               actor|\n",
            "| nm4079966|   5|     Jordan Bernarde|               actor|\n",
            "| nm9294565|   5|        Greg Zatzkis|miscellaneous,act...|\n",
            "| nm6580550|   5|        Remy Cashman|actress,producer,...|\n",
            "| nm5809770|   5|The Ken Darby Sin...|music_department,...|\n",
            "| nm2281222|   5|         Ted Newsome|producer,director...|\n",
            "| nm0017292|   5|         Bill Alcorn|               actor|\n",
            "| nm2013626|   5|           CocoRosie|actress,music_dep...|\n",
            "| nm9767585|   5|Freidric Macapaga...|camera_department...|\n",
            "| nm4398357|   5|       Leon Fontaine|producer,writer,a...|\n",
            "| nm7172326|   5|        Joe Nicolosi|actor,transportat...|\n",
            "| nm6038165|   5|       Kuan-Ting Liu|               actor|\n",
            "| nm6083431|   5|       Tawan Sanders|director,actress,...|\n",
            "| nm0662565|   5|         Reed Parker|               actor|\n",
            "| nm0186937|   5|        Hal Le Sueur|               actor|\n",
            "| nm3727115|   5|           Jenny Lee|miscellaneous,act...|\n",
            "| nm1708736|   5|      Sloan DeForest|             actress|\n",
            "| nm5923758|   5|        Rakesh Adiga|actor,director,wr...|\n",
            "| nm6232025|   5|Sara Higgins Mack...|actress,costume_d...|\n",
            "| nm5751952|   5|        Cameron Cook|actor,producer,di...|\n",
            "| nm1858039|   5|         Meelis Muhu|actor,producer,di...|\n",
            "| nm3294984|   5| Carl Paul Ezold Jr.|               actor|\n",
            "| nm6168142|   5|         Mandy Faura|writer,director,a...|\n",
            "|nm10261459|   5|     Emmett van Halm|actor,camera_depa...|\n",
            "| nm2968946|   5|  Sabrina Chen-Louie|producer,actor,mi...|\n",
            "| nm1780432|   5|        Doug Pinnick|actor,composer,mu...|\n",
            "| nm3304752|   5|      Giselle Davila|             actress|\n",
            "| nm5457566|   5|         Katie Reese|             actress|\n",
            "| nm1835848|   5|       John W. Sloan|actor,director,wr...|\n",
            "| nm1948317|   5|     Chelsea Johnson|             actress|\n",
            "| nm1163810|   5|         Yanhua Chen|             actress|\n",
            "| nm0300543|   5|            Per Gade|music_department,...|\n",
            "| nm0332297|   5|         Rui Goulart|director,writer,a...|\n",
            "| nm2838205|   5|Evangeline Gabrie...|             actress|\n",
            "| nm2206015|   5|         Mark Morton|soundtrack,actor,...|\n",
            "| nm8745061|   5|        Ben Kawaller|        actor,writer|\n",
            "| nm1827550|   5|      Gina Novotchin|make_up_departmen...|\n",
            "| nm5613952|   5|          Audrey Luo|             actress|\n",
            "| nm6236508|   5|        Alan Mallyon|producer,actor,wr...|\n",
            "| nm5973476|   5|      J. Ryan Hickey|special_effects,m...|\n",
            "| nm9117654|   5|          Emma Foley|actress,director,...|\n",
            "| nm5756622|   5|        Aaliyah Rose|             actress|\n",
            "| nm0686428|   5|      Demetra Plakas|             actress|\n",
            "| nm0112122|   5|       Lucius Brooks|    actor,soundtrack|\n",
            "| nm0361727|   5|        Reiko Oimori|             actress|\n",
            "| nm1218414|   5|    Yannis Zoubantis|               actor|\n",
            "| nm5230491|   5|            Lan Lanh|soundtrack,actres...|\n",
            "| nm5092676|   5|      Joey Biohazard|               actor|\n",
            "| nm2591423|   5|Logan William McPeak|               actor|\n",
            "| nm2611302|   5|   Miguel Rodrigáñez|music_department,...|\n",
            "| nm8805467|   5|        Marco Joseph|               actor|\n",
            "| nm6312662|   5|        Lucas Klauss|writer,producer,a...|\n",
            "| nm9828634|   5|  Simon James Kippen|               actor|\n",
            "| nm4706609|   5|   Jonathan Thompson|director,actor,ed...|\n",
            "| nm1795875|   5|       Ismo Heikkilä|actor,sound_depar...|\n",
            "| nm0891937|   5|         Candy Vegas|             actress|\n",
            "| nm8026299|   5|         Mike Torres|actor,casting_dir...|\n",
            "+----------+----+--------------------+--------------------+\n",
            "\n"
          ],
          "name": "stdout"
        }
      ]
    },
    {
      "cell_type": "markdown",
      "metadata": {
        "id": "oFLUlRSwcROR"
      },
      "source": [
        "### Apriori"
      ]
    },
    {
      "cell_type": "code",
      "metadata": {
        "id": "kNpLWEivcUYv"
      },
      "source": [
        "transactions_wroles=transactions_wroles.select('nconst').rdd.flatMap(lambda x: x)\n",
        "lines = transactions_wroles.map(lambda line: ','.join(str(d) for d in line))\n",
        "lines.saveAsTextFile('transactions_actors_wroles.txt')\n",
        "trans_wroles = sc.textFile('transactions_actors_wroles.txt').map(lambda x: [str(y) for y in x.strip().split(',')])"
      ],
      "execution_count": null,
      "outputs": []
    },
    {
      "cell_type": "code",
      "metadata": {
        "id": "Td4N7fyTc43n",
        "colab": {
          "base_uri": "https://localhost:8080/"
        },
        "outputId": "ada1a18b-b936-4893-9a9a-f85de13f8b2e"
      },
      "source": [
        "import time\n",
        "start_time = time.time()\n",
        "minSupport=5\n",
        "aprioriResult_wroles= aprioriAlgorithm(trans_wroles,minSupport)\n",
        "print(\" Executed in %.2f seconds ---\" % (time.time() - start_time))"
      ],
      "execution_count": null,
      "outputs": [
        {
          "output_type": "stream",
          "text": [
            " Executed in 1012.08 seconds ---\n"
          ],
          "name": "stdout"
        }
      ]
    },
    {
      "cell_type": "code",
      "metadata": {
        "colab": {
          "base_uri": "https://localhost:8080/"
        },
        "id": "k7Qj7l6IlCUe",
        "outputId": "3e32cefb-d047-4876-f3fc-a85b194abf39"
      },
      "source": [
        "aprioriResult_wroles"
      ],
      "execution_count": null,
      "outputs": [
        {
          "output_type": "execute_result",
          "data": {
            "text/plain": [
              "[('nm1948317', 5),\n",
              " ('nm1512084', 8),\n",
              " ('nm1218414', 5),\n",
              " ('nm7172326', 5),\n",
              " ('nm1835848', 5),\n",
              " ('nm6168142', 5),\n",
              " ('nm1795875', 5),\n",
              " ('nm5756622', 5),\n",
              " ('nm0809850', 7),\n",
              " ('nm1780432', 5),\n",
              " ('nm9828634', 5),\n",
              " ('nm2838205', 5),\n",
              " ('nm0891937', 5),\n",
              " ('nm8026299', 5),\n",
              " ('nm1858039', 5),\n",
              " ('nm5457566', 5),\n",
              " ('nm5809770', 5),\n",
              " ('nm6580550', 5),\n",
              " ('nm9294565', 5),\n",
              " ('nm6038165', 5),\n",
              " ('nm4517234', 6),\n",
              " ('nm0017292', 5),\n",
              " ('nm3727115', 5),\n",
              " ('nm0662565', 5),\n",
              " ('nm0686428', 5),\n",
              " ('nm1708736', 5),\n",
              " ('nm2206015', 5),\n",
              " ('nm5092676', 5),\n",
              " ('nm0186937', 5),\n",
              " ('nm6312662', 5),\n",
              " ('nm5751952', 5),\n",
              " ('nm0300543', 5),\n",
              " ('nm6083431', 5),\n",
              " ('nm5923758', 5),\n",
              " ('nm4079966', 5),\n",
              " ('nm2611302', 5),\n",
              " ('nm3304752', 5),\n",
              " ('nm0472407', 6),\n",
              " ('nm2968946', 5),\n",
              " ('nm2281222', 5),\n",
              " ('nm5230491', 5),\n",
              " ('nm9117654', 5),\n",
              " ('nm5613952', 5),\n",
              " ('nm6236508', 5),\n",
              " ('nm5973476', 5),\n",
              " ('nm0361727', 5),\n",
              " ('nm0112122', 5),\n",
              " ('nm4398357', 5),\n",
              " ('nm3294984', 5),\n",
              " ('nm4706609', 5),\n",
              " ('nm6232022', 6),\n",
              " ('nm6232025', 5),\n",
              " ('nm2013626', 5),\n",
              " ('nm1827550', 5),\n",
              " ('nm0332297', 5),\n",
              " ('nm10261459', 5),\n",
              " ('nm8745061', 5),\n",
              " ('nm8805467', 5),\n",
              " ('nm1163810', 5),\n",
              " ('nm9767585', 5),\n",
              " ('nm2591423', 5)]"
            ]
          },
          "metadata": {
            "tags": []
          },
          "execution_count": 22
        }
      ]
    }
  ]
}